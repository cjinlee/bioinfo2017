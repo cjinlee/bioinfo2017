{
 "cells": [
  {
   "cell_type": "code",
   "execution_count": 1,
   "metadata": {
    "collapsed": false
   },
   "outputs": [
    {
     "name": "stdout",
     "output_type": "stream",
     "text": [
      "5 0 5\n"
     ]
    }
   ],
   "source": [
    "def bigger(a,b):\n",
    "    if a > b :\n",
    "        return a\n",
    "    elif a == b :\n",
    "        return 0\n",
    "    else:\n",
    "        return b\n",
    "\n",
    "print( bigger(3,5), bigger(5,5), bigger(5,3) ) "
   ]
  },
  {
   "cell_type": "code",
   "execution_count": 2,
   "metadata": {
    "collapsed": false
   },
   "outputs": [
    {
     "name": "stdout",
     "output_type": "stream",
     "text": [
      "100 200 200 100\n"
     ]
    }
   ],
   "source": [
    "def add_100(tmp):\n",
    "    tmp += 100\n",
    "    return tmp\n",
    "\n",
    "a = 100\n",
    "b = add_100(a)\n",
    "print(a,b,add_100(a),a)"
   ]
  },
  {
   "cell_type": "code",
   "execution_count": 3,
   "metadata": {
    "collapsed": false
   },
   "outputs": [
    {
     "name": "stdout",
     "output_type": "stream",
     "text": [
      "100 200 200 100\n"
     ]
    }
   ],
   "source": [
    "a = 100\n",
    "def add_100(a):\n",
    "    a += 100\n",
    "    return a\n",
    "\n",
    "b = add_100(a)\n",
    "\n",
    "print(a,b,add_100(a),a)\n",
    "# done"
   ]
  },
  {
   "cell_type": "code",
   "execution_count": null,
   "metadata": {
    "collapsed": true
   },
   "outputs": [],
   "source": []
  }
 ],
 "metadata": {
  "kernelspec": {
   "display_name": "Python 3",
   "language": "python",
   "name": "python3"
  },
  "language_info": {
   "codemirror_mode": {
    "name": "ipython",
    "version": 3
   },
   "file_extension": ".py",
   "mimetype": "text/x-python",
   "name": "python",
   "nbconvert_exporter": "python",
   "pygments_lexer": "ipython3",
   "version": "3.6.0"
  }
 },
 "nbformat": 4,
 "nbformat_minor": 2
}
