{
 "cells": [
  {
   "cell_type": "code",
   "execution_count": 2,
   "metadata": {
    "collapsed": false,
    "deletable": true,
    "editable": true
   },
   "outputs": [
    {
     "name": "stdout",
     "output_type": "stream",
     "text": [
      "Probability of win the prize when change the selection :  0.670630630631\n",
      "Probability of win the prize when do not change the selection :  0.334845154845\n",
      "Probability of win : 0.50257 Probability of lose : 0.49743\n",
      "Probability of total : 1.0\n"
     ]
    }
   ],
   "source": [
    "import random\n",
    "trial =0\n",
    "ch_win = 0\n",
    "ch_lose = 0\n",
    "noch_win = 0\n",
    "noch_lose = 0\n",
    "\n",
    "for i in range(0,100000):\n",
    "    trial +=1\n",
    "    door_list = ['car','goat','goat']\n",
    "    select = random.choice(door_list)\n",
    "    if select == 'car':\n",
    "        del door_list[2]\n",
    "        if random.choice(door_list) =='car':\n",
    "            noch_win +=1\n",
    "        else:\n",
    "            ch_lose +=1\n",
    "        continue\n",
    "    if select == 'goat':\n",
    "        del door_list[2]\n",
    "        if random.choice(door_list) =='car':\n",
    "            ch_win +=1\n",
    "        else:\n",
    "            noch_lose +=1\n",
    "        continue\n",
    "\n",
    "print \"Probability of win the prize when change the selection : \", ch_win*1.0/(ch_win+ch_lose)\n",
    "print \"Probability of win the prize when do not change the selection : \", noch_win*1.0/(noch_win+noch_lose)\n",
    "print \"Probability of win :\",(ch_win+noch_win)*1.0/trial ,\"Probability of lose :\", (ch_lose+noch_lose)*1.0/trial\n",
    "print \"Probability of total :\",(ch_win+noch_win)*1.0/trial + (ch_lose+noch_lose)*1.0/trial"
   ]
  },
  {
   "cell_type": "code",
   "execution_count": null,
   "metadata": {
    "collapsed": true,
    "deletable": true,
    "editable": true
   },
   "outputs": [],
   "source": []
  }
 ],
 "metadata": {
  "kernelspec": {
   "display_name": "Python 2",
   "language": "python",
   "name": "python2"
  },
  "language_info": {
   "codemirror_mode": {
    "name": "ipython",
    "version": 2
   },
   "file_extension": ".py",
   "mimetype": "text/x-python",
   "name": "python",
   "nbconvert_exporter": "python",
   "pygments_lexer": "ipython2",
   "version": "2.7.12"
  }
 },
 "nbformat": 4,
 "nbformat_minor": 2
}
