{
 "cells": [
  {
   "cell_type": "code",
   "execution_count": 73,
   "metadata": {
    "collapsed": false
   },
   "outputs": [
    {
     "name": "stdout",
     "output_type": "stream",
     "text": [
      "진행자 : There are three doors. \n",
      "       If you choose the door which has car, you can get it! \n",
      "       Please choose one.\n",
      " Me  : I choose... B\n",
      "진행자 : I will show you another door which is goat. The door A is goat!\n",
      "       Would you like to switch your first choice?\n",
      " Me  :  No\n",
      "진행자 : Okay. Your choice is B \n",
      "       The door B is car\n"
     ]
    }
   ],
   "source": [
    "import random\n",
    "\n",
    "door=['A', 'B', 'C'] #문의이름 설정\n",
    "Indoor=['goat1', 'goat2', 'car'] #염소와 차 설정\n",
    "for i in range(0,2): #목록이 3개이므로 범위를 0~3으로 설정하고 문의 이름과 상품의 목록이 대치되도록 a-l, b-m, c-n으로 설정\n",
    "    a=random.choice(door) #문의 랜덤값 설정\n",
    "    b=random.choice(door)\n",
    "    c=random.choice(door)\n",
    "    l=random.choice(Indoor) #상품 목록 랜덤값 설정\n",
    "    m=random.choice(Indoor)\n",
    "    n=random.choice(Indoor)\n",
    "    while b == a or m == l: #a와 l의 랜덤값이 이미 설정됐으므로 그와 중복되지 않는 b와 m 랜덤값 설정\n",
    "        b=random.choice(door)\n",
    "        m=random.choice(Indoor)\n",
    "    while c == a or c == b or n == l or n == m: #a,b와 l,m과 중복되지 않는 c와 n의 랜덤값 설정\n",
    "        c=random.choice(door)\n",
    "        n=random.choice(Indoor)\n",
    "\n",
    "print(\"진행자 : There are three doors. \\n       If you choose the door which has car, you can get it! \\n       Please choose one.\")\n",
    "print(\" Me  : I choose...\", a)\n",
    "\n",
    "if m == 'goat1' or m == 'goat2': #만약의 b의 랜덤값이 염소라면 b로 설정된 문을 연다.\n",
    "    print(\"진행자 : I will show you another door which is goat. The door\", b, \"is goat!\")\n",
    "else: #만약의 c의 랜덤값이 염소라면 c로 설정된 문을 연다.\n",
    "    print(\"진행자 : I will show you another door which is goat. The door\", c, \"is goat!\")\n",
    "\n",
    "print(\"       Would you like to switch your first choice?\")\n",
    "\n",
    "switch=['Yes', 'No']\n",
    "ans=random.choice(switch)\n",
    "\n",
    "print(\" Me  : \", ans)\n",
    "\n",
    "if ans == 'Yes':\n",
    "    print(\"진행자 : Okay. Your choice is\", c,\"\\n       The door\", c, \"is\", n)\n",
    "else:\n",
    "    print(\"진행자 : Okay. Your choice is\", a,\"\\n       The door\", a, \"is\", l)"
   ]
  },
  {
   "cell_type": "code",
   "execution_count": 74,
   "metadata": {
    "collapsed": false
   },
   "outputs": [
    {
     "name": "stdout",
     "output_type": "stream",
     "text": [
      "When we switch our choice, the percentage we will win is 66.78571428571428 %\n",
      "When we don't switch our choice, the percentage we will win is 33.064516129032256 %\n"
     ]
    }
   ],
   "source": [
    "import random\n",
    "\n",
    "door=['A','B','C']\n",
    "change=['Yes','No']\n",
    "win1=0\n",
    "win2=0\n",
    "loss1=0\n",
    "loss2=0\n",
    "yes=0\n",
    "no=0\n",
    "for i in range(0,10000):\n",
    "    car=random.choice(door)\n",
    "    first_pick=random.choice(door)\n",
    "    ans=random.choice(change)\n",
    "    if first_pick==car:\n",
    "        if ans=='Yes':\n",
    "            loss1+=1\n",
    "            yes+=1\n",
    "\n",
    "        else:\n",
    "            win1+=1\n",
    "            no+=1\n",
    "    else:\n",
    "        if ans=='Yes':\n",
    "            win2+=1\n",
    "            yes+=1\n",
    "        else:\n",
    "            loss2+=1\n",
    "            no+=1\n",
    "            \n",
    "print(\"When we switch our choice, the percentage we will win is\", (win2/yes)*100,\"%\")\n",
    "print(\"When we don't switch our choice, the percentage we will win is\", (win1/no)*100, \"%\")"
   ]
  }
 ],
 "metadata": {
  "celltoolbar": "Slideshow",
  "kernelspec": {
   "display_name": "Python 3",
   "language": "python",
   "name": "python3"
  },
  "language_info": {
   "codemirror_mode": {
    "name": "ipython",
    "version": 3
   },
   "file_extension": ".py",
   "mimetype": "text/x-python",
   "name": "python",
   "nbconvert_exporter": "python",
   "pygments_lexer": "ipython3",
   "version": "3.6.0"
  }
 },
 "nbformat": 4,
 "nbformat_minor": 2
}
