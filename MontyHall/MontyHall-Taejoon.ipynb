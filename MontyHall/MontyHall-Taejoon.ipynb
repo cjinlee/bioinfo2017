{
 "cells": [
  {
   "cell_type": "code",
   "execution_count": 3,
   "metadata": {
    "collapsed": false
   },
   "outputs": [
    {
     "name": "stdout",
     "output_type": "stream",
     "text": [
      "B\n",
      "C\n",
      "B\n",
      "B\n",
      "B\n",
      "A\n",
      "A\n",
      "C\n",
      "C\n",
      "C\n"
     ]
    }
   ],
   "source": [
    "import random\n",
    "door_list = ['A','B','C']\n",
    "for i in range(0,10):\n",
    "    print( random.choice(door_list) )"
   ]
  },
  {
   "cell_type": "code",
   "execution_count": 3,
   "metadata": {
    "collapsed": false
   },
   "outputs": [
    {
     "name": "stdout",
     "output_type": "stream",
     "text": [
      "0.666 0.334\n"
     ]
    }
   ],
   "source": [
    "import random\n",
    "door_list = ['A','B','C']\n",
    "\n",
    "count_trial = 1000\n",
    "no_change_win = 0\n",
    "change_win = 0\n",
    "\n",
    "for i in range(0,count_trial):\n",
    "    door_car = random.choice(door_list)\n",
    "    door_pick = random.choice(door_list)\n",
    "    door_open_list = list( set(door_list) - set([door_car, door_pick]) )\n",
    "    door_open = random.choice(door_open_list)\n",
    "    door_change_list = list( set(door_list) - set([door_open, door_pick]) )\n",
    "    door_changed = random.choice(door_change_list)\n",
    "    \n",
    "    if door_car == door_pick:\n",
    "        no_change_win += 1\n",
    "    elif door_car == door_changed:\n",
    "        change_win += 1\n",
    "    #else:\n",
    "    #    print(door_car, door_pick, door_open)\n",
    "        \n",
    "print( change_win/count_trial, no_change_win/count_trial )"
   ]
  },
  {
   "cell_type": "code",
   "execution_count": null,
   "metadata": {
    "collapsed": true
   },
   "outputs": [],
   "source": []
  }
 ],
 "metadata": {
  "kernelspec": {
   "display_name": "Python 3",
   "language": "python",
   "name": "python3"
  },
  "language_info": {
   "codemirror_mode": {
    "name": "ipython",
    "version": 3
   },
   "file_extension": ".py",
   "mimetype": "text/x-python",
   "name": "python",
   "nbconvert_exporter": "python",
   "pygments_lexer": "ipython3",
   "version": "3.6.0"
  }
 },
 "nbformat": 4,
 "nbformat_minor": 2
}
