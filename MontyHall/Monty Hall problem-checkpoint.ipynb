{
 "cells": [
  {
   "cell_type": "code",
   "execution_count": 1,
   "metadata": {
    "collapsed": false
   },
   "outputs": [
    {
     "name": "stdout",
     "output_type": "stream",
     "text": [
      "The number of trials is: 10,000\n",
      "The percentage of wins if we don't change our choice: 33.15331533153315\n",
      "The percentage of wins if we change our choice: 65.86658665866587\n"
     ]
    }
   ],
   "source": [
    "import random\n",
    "\n",
    "lose_noch=0\n",
    "win_noch=0\n",
    "\n",
    "lose_ch=0\n",
    "win_ch=0\n",
    "\n",
    "\n",
    "prizes=['goat', 'car', 'goat']\n",
    "for i in range(1,10000):\n",
    "    door_choose=random.randint(0,2)\n",
    "    if door_choose==0:\n",
    "        lose_noch+=1\n",
    "    elif door_choose==1:\n",
    "        win_noch+=1\n",
    "    elif door_choose==2:\n",
    "        lose_noch+=1\n",
    "\n",
    "\n",
    "prizes_2=[\"goat\" \"car\",\"goat\"]\n",
    "for i in range(1,10000):\n",
    "    door_choice=random.randint(0,2)\n",
    "    if door_choice==0:\n",
    "        win_ch+=1\n",
    "    elif door_choice==1:\n",
    "        lose_ch+=1\n",
    "    elif door_choice==2:\n",
    "        win_ch+=1\n",
    "\n",
    "total_trials_noch=lose_noch+win_noch\n",
    "total_withChange=lose_ch+win_ch\n",
    "        \n",
    "print(\"The number of trials is:\", \"10,000\")\n",
    "print(\"The percentage of wins if we don't change our choice:\", 100*win_noch/total_trials_noch)\n",
    "print(\"The percentage of wins if we change our choice:\", 100*win_ch/total_withChange)\n",
    " "
   ]
  }
 ],
 "metadata": {
  "kernelspec": {
   "display_name": "Python 3",
   "language": "python",
   "name": "python3"
  },
  "language_info": {
   "codemirror_mode": {
    "name": "ipython",
    "version": 3
   },
   "file_extension": ".py",
   "mimetype": "text/x-python",
   "name": "python",
   "nbconvert_exporter": "python",
   "pygments_lexer": "ipython3",
   "version": "3.6.0"
  }
 },
 "nbformat": 4,
 "nbformat_minor": 2
}
