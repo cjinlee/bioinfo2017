{
 "cells": [
  {
   "cell_type": "code",
   "execution_count": 57,
   "metadata": {
    "collapsed": false
   },
   "outputs": [
    {
     "name": "stdout",
     "output_type": "stream",
     "text": [
      "Stay: 33.28 %\n",
      "Switch: 66.73 %\n"
     ]
    }
   ],
   "source": [
    "import random\n",
    "\n",
    "try_num = 100000\n",
    "stay = 0\n",
    "switch = 0\n",
    "about_stay = 0\n",
    "about_switch = 0\n",
    "\n",
    "\n",
    "for i in range(0,try_num):\n",
    "    door = ['car','goat1', 'goat2']\n",
    "    if random.choice(door) == 'car':\n",
    "        re_door= ['car', 'goat1']\n",
    "        if random.choice(re_door) == 'car':\n",
    "            stay += 1\n",
    "            about_stay +=1\n",
    "        else:\n",
    "            about_switch +=1\n",
    "        \n",
    "\n",
    "    elif random.choice(door) == 'goat1':\n",
    "        re_door = ['car', 'goat1']\n",
    "        if random.choice(re_door) == 'car':\n",
    "            switch+=1\n",
    "            about_switch += 1\n",
    "        else:\n",
    "            about_stay += 1\n",
    "            \n",
    "    else:\n",
    "        re_door = ['car', 'goat2']\n",
    "        if random.choice(re_door) == 'car':\n",
    "            switch +=1\n",
    "            about_switch += 1\n",
    "        else:\n",
    "            about_stay += 1\n",
    "    \n",
    "\n",
    "print('Stay:',\"%.2f\"%(stay/about_stay*100),'%')\n",
    "print('Switch:',\"%.2f\"%(switch/about_switch*100),'%')\n"
   ]
  },
  {
   "cell_type": "code",
   "execution_count": null,
   "metadata": {
    "collapsed": true
   },
   "outputs": [],
   "source": []
  }
 ],
 "metadata": {
  "kernelspec": {
   "display_name": "Python 3",
   "language": "python",
   "name": "python3"
  },
  "language_info": {
   "codemirror_mode": {
    "name": "ipython",
    "version": 3
   },
   "file_extension": ".py",
   "mimetype": "text/x-python",
   "name": "python",
   "nbconvert_exporter": "python",
   "pygments_lexer": "ipython3",
   "version": "3.6.0"
  }
 },
 "nbformat": 4,
 "nbformat_minor": 2
}
