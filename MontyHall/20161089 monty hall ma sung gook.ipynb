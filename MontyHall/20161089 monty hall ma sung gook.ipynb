{
 "cells": [
  {
   "cell_type": "code",
   "execution_count": 52,
   "metadata": {
    "collapsed": false,
    "scrolled": true
   },
   "outputs": [
    {
     "name": "stdout",
     "output_type": "stream",
     "text": [
      "33.58\n",
      "67.2\n",
      "50.12\n"
     ]
    }
   ],
   "source": [
    "import random\n",
    "inside=['car', 'goat', 'goat']\n",
    "win=0\n",
    "for i in range(0, 10000):\n",
    "    random.shuffle(inside)\n",
    "    if inside[0]==\"car\":\n",
    "        win=win+1\n",
    "print(win/100)\n",
    "win=0\n",
    "\n",
    "for i in range(0, 10000):\n",
    "    random.shuffle(inside)\n",
    "    if inside[0]==\"goat\":\n",
    "        win=win+1\n",
    "print(win/100)\n",
    "\n",
    "win=0\n",
    "for i in range(0, 10000):\n",
    "    random.shuffle(inside)\n",
    "    x=random.randrange(1,3)\n",
    "    if x==1:\n",
    "        if inside[0]==\"car\":\n",
    "            win=win+1\n",
    "    if x==2:            \n",
    "        if inside[0]==\"goat\":\n",
    "            win=win+1\n",
    "print(win/100)"
   ]
  }
 ],
 "metadata": {
  "kernelspec": {
   "display_name": "Python 3",
   "language": "python",
   "name": "python3"
  },
  "language_info": {
   "codemirror_mode": {
    "name": "ipython",
    "version": 3
   },
   "file_extension": ".py",
   "mimetype": "text/x-python",
   "name": "python",
   "nbconvert_exporter": "python",
   "pygments_lexer": "ipython3",
   "version": "3.6.0"
  }
 },
 "nbformat": 4,
 "nbformat_minor": 2
}
