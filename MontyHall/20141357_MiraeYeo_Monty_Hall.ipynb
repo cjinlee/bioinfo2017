{
 "cells": [
  {
   "cell_type": "code",
   "execution_count": 54,
   "metadata": {
    "collapsed": false
   },
   "outputs": [
    {
     "name": "stdout",
     "output_type": "stream",
     "text": [
      "I choose the door A\n",
      "Monty can choose between the door ['B', 'C']\n",
      "Monty open the door C\n",
      "\n",
      " The car was in the door B \n",
      "\n",
      "If you change your decision, then the probability of getting the car is 66.66666666666666 %.\n",
      "If not, then 33.333333333333336 %.\n"
     ]
    }
   ],
   "source": [
    "# I made this code based on the concept of \"Thinkbayes\" textbook\n",
    "\n",
    "# P(H): Probability of existence of the car when I choose a door\n",
    "# P(D): Probability of Monty choose the door B\n",
    "# P(D|H): Probability of Monty choose the door B when the car is in which door \n",
    "        # when I chose the door\n",
    "    \n",
    "# P(D) = P(H1)P(D|H1) + P(H2)P(D|H2) + P(H3)P(D|H3)\n",
    "# P(H|D) = P(H)P(D|H) / P(D)\n",
    "\n",
    "### In the 3 door case (Original)\n",
    "\n",
    "import random\n",
    "Door = ['A', 'B', 'C']            # If you add more doors, the result will be changed\n",
    "IChoice = random.choice(Door)     # Make the first random choice\n",
    "Car = random.choice(Door)         # Set the random car location\n",
    "print(\"I choose the door\", IChoice) \n",
    " \n",
    "P_H = 1/len(Door)                 # P(H)\n",
    "\n",
    "Rem = Door.remove(IChoice)        # Remove the chosen door because Monty can't choose that door\n",
    "print(\"Monty can choose between the door\", Door)\n",
    "\n",
    "MontyOpen = random.choice(Door)   # Monty open the door\n",
    "print(\"Monty open the door\", MontyOpen)\n",
    "print(\"\\n\", \"The car was in the door\", Car, \"\\n\")\n",
    "\n",
    "P_DH1 = 1 / len(Door)             # P(D|H) when IChoice = Car\n",
    "P_DH2 = 0                         # P(D|H) when IChoice != Car but MontyOpen = Car. Actually, it can't possible.\n",
    "P_DH3 = 1 / (len(Door)-1)         # P(D|H) when IChoice != Car and MontyOpen != Car\n",
    "\n",
    "P_HDH1 = P_H * P_DH1              # P(H)P(D|H)\n",
    "P_HDH2 = P_H * P_DH2 \n",
    "P_HDH3 = P_H * P_DH3 \n",
    "\n",
    "P_D = P_HDH1 + P_HDH2 + (P_HDH3 * (len(Door)-1))   # P(D). I mutiply the '(len(Door)-1)' to generalize this code for many doors more than 3.\n",
    "\n",
    "P_HD1 = P_HDH1 / P_D              # P(H|D), which is the final answer of this problem\n",
    "P_HD2 = P_HDH2 / P_D\n",
    "P_HD3 = P_HDH3 / P_D\n",
    "\n",
    "if IChoice == Car:\n",
    "    print(\"If you change your decision, then the probability of getting car is\",\n",
    "          (1- P_HD1)/(len(Door)-1)*100,\"%.\")\n",
    "    print(\"If not, then \", P_HD1 *100, \"%.\")\n",
    "    \n",
    "else:\n",
    "    if MontyOpen == Car:\n",
    "        print(\"The car was in the door\", Car)\n",
    "        print(\"Therefore, it can't be possible.\")\n",
    "    else:\n",
    "        print(\"If you change your decision, then the probability of getting the car is\",\n",
    "              P_HD3 *100,\"%.\")\n",
    "        print(\"If not, then\", (1-P_HD3*(len(Door)-1)) *100, \"%.\")"
   ]
  },
  {
   "cell_type": "code",
   "execution_count": 1,
   "metadata": {
    "collapsed": false
   },
   "outputs": [
    {
     "name": "stdout",
     "output_type": "stream",
     "text": [
      "I choose the door A\n",
      "Monty can choose between the door ['B', 'C', 'D']\n",
      "Monty open the door C\n",
      "\n",
      " The car was in the door D \n",
      "\n",
      "If you change your decision, then the probability of getting the car is 37.5 %.\n",
      "If not, then 25.0 %.\n"
     ]
    }
   ],
   "source": [
    "### In the 4 door case\n",
    "\n",
    "import random\n",
    "Door = ['A', 'B', 'C', 'D']        # I just add one more door. Other codes are same with upper codes.\n",
    "IChoice = random.choice(Door)    \n",
    "Car = random.choice(Door)       \n",
    "print(\"I choose the door\", IChoice) \n",
    " \n",
    "P_H = 1/len(Door)               \n",
    "\n",
    "Rem = Door.remove(IChoice)       \n",
    "print(\"Monty can choose between the door\", Door)\n",
    "\n",
    "MontyOpen = random.choice(Door)  \n",
    "print(\"Monty open the door\", MontyOpen)\n",
    "print(\"\\n\", \"The car was in the door\", Car, \"\\n\")\n",
    "\n",
    "P_DH1 = 1 / len(Door)            \n",
    "P_DH2 = 0                       \n",
    "P_DH3 = 1 / (len(Door)-1)       \n",
    "\n",
    "P_HDH1 = P_H * P_DH1             \n",
    "P_HDH2 = P_H * P_DH2 \n",
    "P_HDH3 = P_H * P_DH3 \n",
    "\n",
    "P_D = P_HDH1 + P_HDH2 + (P_HDH3 * (len(Door)-1))   \n",
    "\n",
    "P_HD1 = P_HDH1 / P_D            \n",
    "P_HD2 = P_HDH2 / P_D\n",
    "P_HD3 = P_HDH3 / P_D\n",
    "\n",
    "if IChoice == Car:\n",
    "    print(\"If you change your decision, then the probability of getting car is\",\n",
    "          (1- P_HD1)/(len(Door)-1)*100,\"%.\")\n",
    "    print(\"If not, then \", P_HD1 *100, \"%.\")\n",
    "    \n",
    "else:\n",
    "    if MontyOpen == Car:\n",
    "        print(\"The car was in the door\", Car)\n",
    "        print(\"Therefore, it can't be possible.\")\n",
    "    else:\n",
    "        print(\"If you change your decision, then the probability of getting the car is\",\n",
    "              P_HD3*100,\"%.\")\n",
    "        print(\"If not, then\", (1-P_HD3*(len(Door)-1)) *100, \"%.\")"
   ]
  },
  {
   "cell_type": "code",
   "execution_count": null,
   "metadata": {
    "collapsed": true
   },
   "outputs": [],
   "source": []
  }
 ],
 "metadata": {
  "kernelspec": {
   "display_name": "Python 3",
   "language": "python",
   "name": "python3"
  },
  "language_info": {
   "codemirror_mode": {
    "name": "ipython",
    "version": 3
   },
   "file_extension": ".py",
   "mimetype": "text/x-python",
   "name": "python",
   "nbconvert_exporter": "python",
   "pygments_lexer": "ipython3",
   "version": "3.6.0"
  }
 },
 "nbformat": 4,
 "nbformat_minor": 2
}
