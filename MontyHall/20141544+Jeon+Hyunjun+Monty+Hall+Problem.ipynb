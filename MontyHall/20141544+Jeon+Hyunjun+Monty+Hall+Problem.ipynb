{
 "cells": [
  {
   "cell_type": "code",
   "execution_count": 31,
   "metadata": {
    "collapsed": false
   },
   "outputs": [
    {
     "name": "stdout",
     "output_type": "stream",
     "text": [
      "Probability of choosing car in door is  66.61203170028818 %\n"
     ]
    }
   ],
   "source": [
    "import random\n",
    "number = 0\n",
    "correct = 0\n",
    "wrong = 0\n",
    "change_correct = 0\n",
    "change_wrong = 0\n",
    "\n",
    "for i in range(0,1000000):\n",
    "    number += 1\n",
    "    door_list = ['A','B','C']\n",
    "    door_chosen = random.choice(door_list)\n",
    "    door_car = 'A'\n",
    "    if door_chosen == door_car:\n",
    "        door_list = ['A', 'B']\n",
    "        if random.choice(door_list) == 'A':\n",
    "            correct += 1\n",
    "        else:\n",
    "            change_wrong += 1\n",
    "            \n",
    "    else:\n",
    "        door_list = ['A', 'C']\n",
    "        if random.choice(door_list) == 'A':\n",
    "            change_correct += 1\n",
    "        else:\n",
    "            wrong += 1\n",
    "        \n",
    "        \n",
    "print(\"Probability of choosing car in door after change selection is \", change_correct / (change_correct + change_wrong) * 100, \"%\")"
   ]
  }
 ],
 "metadata": {
  "kernelspec": {
   "display_name": "Python 3",
   "language": "python",
   "name": "python3"
  },
  "language_info": {
   "codemirror_mode": {
    "name": "ipython",
    "version": 3
   },
   "file_extension": ".py",
   "mimetype": "text/x-python",
   "name": "python",
   "nbconvert_exporter": "python",
   "pygments_lexer": "ipython3",
   "version": "3.6.0"
  }
 },
 "nbformat": 4,
 "nbformat_minor": 2
}
