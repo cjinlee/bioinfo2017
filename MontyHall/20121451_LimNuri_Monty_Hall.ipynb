{
 "cells": [
  {
   "cell_type": "code",
   "execution_count": 12,
   "metadata": {
    "collapsed": false
   },
   "outputs": [
    {
     "name": "stdout",
     "output_type": "stream",
     "text": [
      "1000\n",
      "Get car with not changing door = 308\n",
      "Get car with changing door     = 692\n"
     ]
    }
   ],
   "source": [
    "import random\n",
    "door_list = ['A','B','C']\n",
    "trytime = 1000\n",
    "ct_not_change = 0\n",
    "ct_change = 0\n",
    "print(trytime)\n",
    "for k in range(0,trytime):\n",
    "    choosen = random.choice(door_list)\n",
    "    car_list = random.choice(door_list)\n",
    "    if choosen == car_list:\n",
    "        '''When choosen and car_list are same, whatever door is opened by monty, NOT changing door must get the car'''\n",
    "        ct_not_change += 1\n",
    "    else:\n",
    "        '''When choosen and car_list are not same, monty have only one door to open. then changing door must get the car'''\n",
    "        ct_change += 1\n",
    "print('Get car with not changing door =',ct_not_change)\n",
    "print('Get car with changing door     =',ct_change)"
   ]
  },
  {
   "cell_type": "code",
   "execution_count": 9,
   "metadata": {
    "collapsed": false
   },
   "outputs": [
    {
     "name": "stdout",
     "output_type": "stream",
     "text": [
      "There are 3 doors ['A', 'B', 'C']\n",
      "A man choose A door\n",
      "and the car is in A door\n",
      "Monty opens C door.\n",
      "Then, remain door are  ['A', 'B']\n",
      "You decided to do not change door.\n",
      "So, your last choice is A door.\n",
      "Congratulation! You get the car.\n"
     ]
    }
   ],
   "source": [
    "import random\n",
    "door_list = ['A','B','C']\n",
    "mind = ['change','not_change']\n",
    "\n",
    "choosen = random.choice(door_list)\n",
    "car_list = random.choice(door_list)\n",
    "print('There are 3 doors',door_list)\n",
    "print('A man choose',choosen,'door')\n",
    "print('and the car is in',car_list,'door')\n",
    "if choosen == car_list:\n",
    "    monty_door = door_list.remove(choosen)\n",
    "    monty_open = random.choice(door_list)\n",
    "    print('Monty opens',monty_open,'door.')\n",
    "    New_door = ['A','B','C']\n",
    "    remain_door = New_door.remove(monty_open)\n",
    "    print('Then, remain door are ',New_door)\n",
    "    decide = random.choice(mind)\n",
    "    if decide == 'change':\n",
    "        print('You decided to change door.')\n",
    "        New_door.remove(choosen)\n",
    "        last_choice = New_door\n",
    "    else:\n",
    "        print('You decided to do not change door.')\n",
    "        last_choice = choosen\n",
    "else:\n",
    "    monty_door = door_list.remove(choosen)\n",
    "    monty_open = door_list.remove(car_list)\n",
    "    print('Monty opens',door_list[0],'door.')\n",
    "    New_door = ['A','B','C']\n",
    "    remain_door = New_door.remove(door_list[0])\n",
    "    print('Then, remain door are ',New_door)\n",
    "    decide = random.choice(mind)\n",
    "    if decide == 'change':\n",
    "        print('You decided to change door.')\n",
    "        New_door.remove(choosen)\n",
    "        last_choice = New_door\n",
    "    else:\n",
    "        print('You decided to do not change door.')\n",
    "        last_choice = choosen\n",
    "print('So, your last choice is',last_choice[0],'door.')\n",
    "if car_list == last_choice[0]:\n",
    "    print('Congratulation! You get the car.')\n",
    "else:\n",
    "    print('Sorry, Better luck next time...')"
   ]
  },
  {
   "cell_type": "code",
   "execution_count": null,
   "metadata": {
    "collapsed": true
   },
   "outputs": [],
   "source": []
  },
  {
   "cell_type": "code",
   "execution_count": null,
   "metadata": {
    "collapsed": true
   },
   "outputs": [],
   "source": []
  }
 ],
 "metadata": {
  "kernelspec": {
   "display_name": "Python 3",
   "language": "python",
   "name": "python3"
  },
  "language_info": {
   "codemirror_mode": {
    "name": "ipython",
    "version": 3
   },
   "file_extension": ".py",
   "mimetype": "text/x-python",
   "name": "python",
   "nbconvert_exporter": "python",
   "pygments_lexer": "ipython3",
   "version": "3.6.0"
  }
 },
 "nbformat": 4,
 "nbformat_minor": 2
}
