{
 "cells": [
  {
   "cell_type": "code",
   "execution_count": 16,
   "metadata": {
    "collapsed": false
   },
   "outputs": [
    {
     "name": "stdout",
     "output_type": "stream",
     "text": [
      "possibility to get car when you change your choice = 65.7\n"
     ]
    }
   ],
   "source": [
    "count = 0\n",
    "tries = 1000\n",
    "import random\n",
    "door_list = ['a','b','c']\n",
    "for i in range(0,tries):\n",
    "    car = random.choice(door_list)\n",
    "    choice = random.choice(door_list)\n",
    "    \n",
    "    my_list = ['a','b','c']\n",
    "    \n",
    "    if car == choice:\n",
    "        my_list.remove(choice)\n",
    "    else:\n",
    "        my_list.remove(choice)\n",
    "        my_list.remove(car)\n",
    "    \n",
    "    door_open = random.choice(my_list)\n",
    "    \n",
    "    if len(my_list) == 1:\n",
    "        #success\n",
    "        count+=1\n",
    "    else:\n",
    "        #fail\n",
    "        count = count\n",
    "        \n",
    "print('possibility to get car when you change your choice =', count/tries*100)\n"
   ]
  },
  {
   "cell_type": "code",
   "execution_count": null,
   "metadata": {
    "collapsed": true
   },
   "outputs": [],
   "source": []
  }
 ],
 "metadata": {
  "kernelspec": {
   "display_name": "Python 3",
   "language": "python",
   "name": "python3"
  },
  "language_info": {
   "codemirror_mode": {
    "name": "ipython",
    "version": 3
   },
   "file_extension": ".py",
   "mimetype": "text/x-python",
   "name": "python",
   "nbconvert_exporter": "python",
   "pygments_lexer": "ipython3",
   "version": "3.6.0"
  }
 },
 "nbformat": 4,
 "nbformat_minor": 2
}
