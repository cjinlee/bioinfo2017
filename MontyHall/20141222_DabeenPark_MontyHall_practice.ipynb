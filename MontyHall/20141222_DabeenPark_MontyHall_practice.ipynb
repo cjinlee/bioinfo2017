{
 "cells": [
  {
   "cell_type": "code",
   "execution_count": 6,
   "metadata": {
    "collapsed": false
   },
   "outputs": [
    {
     "name": "stdout",
     "output_type": "stream",
     "text": [
      "If you change your door, probability of select D_car is  66.56\n"
     ]
    }
   ],
   "source": [
    "rate = 0\n",
    "T_num = 10000 #tries number\n",
    "import random\n",
    "D_list = ['A','B','C']\n",
    "for i in range(0,T_num):\n",
    "    D_chosen = random.choice(D_list)\n",
    "    car = random.choice(D_list)\n",
    "    P_Sel = 1/len(D_list) # probability select\n",
    "    R_D_list = ['A','B','C'] #remain door\n",
    "    if D_chosen == car:\n",
    "        R_D_list.remove(D_chosen)\n",
    "    else:\n",
    "        R_D_list.remove(D_chosen)\n",
    "        R_D_list.remove(car)\n",
    "    O_D_list = random.choice(R_D_list) #open door\n",
    "    \n",
    "    if len(R_D_list) == 1:\n",
    "        rate = rate + 1\n",
    "    else:\n",
    "        rate = rate\n",
    "print('If you change your door, probability of select D_car is ', rate/T_num * 100)"
   ]
  },
  {
   "cell_type": "code",
   "execution_count": null,
   "metadata": {
    "collapsed": true
   },
   "outputs": [],
   "source": []
  },
  {
   "cell_type": "code",
   "execution_count": null,
   "metadata": {
    "collapsed": true
   },
   "outputs": [],
   "source": []
  },
  {
   "cell_type": "code",
   "execution_count": null,
   "metadata": {
    "collapsed": true
   },
   "outputs": [],
   "source": []
  }
 ],
 "metadata": {
  "kernelspec": {
   "display_name": "Python 3",
   "language": "python",
   "name": "python3"
  },
  "language_info": {
   "codemirror_mode": {
    "name": "ipython",
    "version": 3
   },
   "file_extension": ".py",
   "mimetype": "text/x-python",
   "name": "python",
   "nbconvert_exporter": "python",
   "pygments_lexer": "ipython3",
   "version": "3.6.0"
  }
 },
 "nbformat": 4,
 "nbformat_minor": 2
}
