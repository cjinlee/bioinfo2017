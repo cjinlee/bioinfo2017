{
 "cells": [
  {
   "cell_type": "code",
   "execution_count": 1,
   "metadata": {
    "collapsed": false
   },
   "outputs": [
    {
     "name": "stdout",
     "output_type": "stream",
     "text": [
      "How many do you play Monty Hall game?: 100\n",
      "If you change your choice, your winning rate is 65.0 %\n",
      "If you don't change your choice, your winning rate is 31.0 %\n"
     ]
    }
   ],
   "source": [
    "import random\n",
    "\n",
    "door = [\"goat\",\"goat\",\"goat\"]\n",
    "\n",
    "trying = input(\"How many do you play Monty Hall game?: \")\n",
    "\n",
    "door[random.randrange(0,3)] = \"car\"\n",
    "win = 0\n",
    "\n",
    "# the case to change the choice\n",
    "for i in range(0,int(trying)):\n",
    "    if door[random.randrange(0,3)] == \"goat\":\n",
    "        win+=1\n",
    "print(\"If you change your choice, your winning rate is\", 100*int(win)/int(trying), \"%\")\n",
    "\n",
    "win = 0\n",
    "# the case not to change the choice\n",
    "for i in range(0,int(trying)):\n",
    "    if door[random.randrange(0,3)] == \"car\":\n",
    "        win+=1\n",
    "print(\"If you don't change your choice, your winning rate is\", 100*int(win)/int(trying), \"%\")"
   ]
  },
  {
   "cell_type": "code",
   "execution_count": null,
   "metadata": {
    "collapsed": true
   },
   "outputs": [],
   "source": []
  },
  {
   "cell_type": "markdown",
   "metadata": {},
   "source": [
    "##### "
   ]
  }
 ],
 "metadata": {
  "kernelspec": {
   "display_name": "Python 3",
   "language": "python",
   "name": "python3"
  },
  "language_info": {
   "codemirror_mode": {
    "name": "ipython",
    "version": 3
   },
   "file_extension": ".py",
   "mimetype": "text/x-python",
   "name": "python",
   "nbconvert_exporter": "python",
   "pygments_lexer": "ipython3",
   "version": "3.6.0"
  }
 },
 "nbformat": 4,
 "nbformat_minor": 2
}
