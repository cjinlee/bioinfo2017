{
 "cells": [
  {
   "cell_type": "code",
   "execution_count": 5,
   "metadata": {
    "collapsed": false
   },
   "outputs": [
    {
     "name": "stdout",
     "output_type": "stream",
     "text": [
      "Switching is advantageous with the probability 0.6599\n"
     ]
    }
   ],
   "source": [
    "import random\n",
    "num=10000\n",
    "a=0\n",
    "for i in range(0,num):\n",
    "    door_list = ['A','B','C']\n",
    "    answer = random.choice(door_list)\n",
    "    choice = random.choice(door_list)\n",
    "    door_list.remove(answer)\n",
    "    if answer != choice:\n",
    "        door_list.remove(choice)\n",
    "    monty_open = random.choice(door_list)\n",
    "    #print(\"Monty opens\",monty_open)\n",
    "    door_list = ['A','B','C']\n",
    "    door_list.remove(monty_open)\n",
    "    door_list.remove(choice)\n",
    "    switch=door_list[0]\n",
    "    if switch == answer:\n",
    "        a+=1\n",
    "print (\"Switching is advantageous with the probability\",a/num)\n"
   ]
  },
  {
   "cell_type": "code",
   "execution_count": null,
   "metadata": {
    "collapsed": true
   },
   "outputs": [],
   "source": []
  }
 ],
 "metadata": {
  "kernelspec": {
   "display_name": "Python 3",
   "language": "python",
   "name": "python3"
  },
  "language_info": {
   "codemirror_mode": {
    "name": "ipython",
    "version": 3
   },
   "file_extension": ".py",
   "mimetype": "text/x-python",
   "name": "python",
   "nbconvert_exporter": "python",
   "pygments_lexer": "ipython3",
   "version": "3.6.0"
  }
 },
 "nbformat": 4,
 "nbformat_minor": 2
}
