{
 "cells": [
  {
   "cell_type": "code",
   "execution_count": 77,
   "metadata": {
    "collapsed": false
   },
   "outputs": [
    {
     "name": "stdout",
     "output_type": "stream",
     "text": [
      "pig=  179.0\n",
      "bovin=  132.0\n",
      "mouse=  158.0\n",
      "chick=  77.0\n",
      "xenla=  67.0\n",
      "danre=  19.0\n",
      "Pig's insulin is most similar to human's \n"
     ]
    }
   ],
   "source": [
    "seq_list = dict()\n",
    "f_fa = open('insulin_pep.uniprot.fa','r')\n",
    "for line in f_fa:\n",
    "    if line.startswith('>'):\n",
    "        seq_h = line.strip()\n",
    "        seq_list[seq_h] = ''\n",
    "    else:\n",
    "        seq_list[seq_h] = line.strip()\n",
    "f_fa.close()\n",
    "\n",
    "\n",
    "seq_human = seq_list['>sp|P01308|INS_HUMAN Insulin OS=Homo sapiens GN=INS PE=1 SV=1'] \n",
    "seq_pig = seq_list['>sp|P01315|INS_PIG Insulin OS=Sus scrofa GN=INS PE=1 SV=2'] \n",
    "seq_bovin = seq_list['>sp|P01317|INS_BOVIN Insulin OS=Bos taurus GN=INS PE=1 SV=2'] \n",
    "seq_mouse = seq_list['>sp|P01325|INS1_MOUSE Insulin-1 OS=Mus musculus GN=Ins1 PE=1 SV=1'] \n",
    "seq_chick = seq_list['>sp|P67970|INS_CHICK Insulin OS=Gallus gallus GN=INS PE=1 SV=1'] \n",
    "seq_xenla = seq_list['>sp|P12706|INS1_XENLA Insulin-1 OS=Xenopus laevis GN=ins-a PE=1 SV=2'] \n",
    "seq_danre = seq_list['>sp|O73727|INS_DANRE Insulin OS=Danio rerio GN=ins PE=3 SV=1'] \n",
    "\n",
    "import numpy as np\n",
    "\n",
    "def dyna(seq_test):\n",
    "    arr = np.zeros((len(seq_human)+1, len(seq_test)+1))\n",
    "    for i in range(0,len(seq_human)+1):\n",
    "        arr[i,0] = -6*i\n",
    "    for j in range(0,len(seq_test)+1):\n",
    "        arr[0,j] = -6*j\n",
    "        \n",
    "    for i in range(1,len(seq_human)+1):\n",
    "        for j in range(1,len(seq_test)+1):\n",
    "            if seq_human[i-1] == seq_test[j-1]:\n",
    "                arr[i,j] = max(arr[i-1,j-1]+5 ,arr[i-1,j]-6,arr[i,j-1]-6)\n",
    "            else:\n",
    "                arr[i,j] = max(arr[i-1,j-1]-2 ,arr[i-1,j]-6,arr[i,j-1]-6)\n",
    "                \n",
    "    return arr[len(seq_human), len(seq_test)]\n",
    "\n",
    "pig = dyna(seq_pig)\n",
    "bovin= dyna(seq_bovin)\n",
    "mouse= dyna(seq_mouse)\n",
    "chick= dyna(seq_chick)\n",
    "xenla= dyna(seq_xenla)\n",
    "danre= dyna(seq_danre)\n",
    "\n",
    "print('pig= ',pig)\n",
    "print('bovin= ',bovin)\n",
    "print('mouse= ',mouse)\n",
    "print('chick= ',chick)\n",
    "print('xenla= ',xenla)\n",
    "print('danre= ',danre)\n",
    "\n",
    "insulin = max(pig,bovin,mouse,chick,xenla,danre)\n",
    "\n",
    "if insulin == pig:\n",
    "    print('Pig\\'s insulin is most similar to human\\'s ')\n",
    "elif insulin == bovin:\n",
    "    print('Bovin\\'s insulin is most similar to human\\'s ')\n",
    "elif insulin == mouse:\n",
    "    print('Mouse\\'s insulin is most similar to human\\'s ')\n",
    "elif insulin == chick:\n",
    "    print('Chick\\'s insulin is most similar to human\\'s ')\n",
    "elif insulin == xenla:\n",
    "    print('Xenla\\'s insulin is most similar to human\\'s ')\n",
    "elif insulin == danre:\n",
    "    print('Danre\\'s insulin is most similar to human\\'s ')\n",
    "      \n",
    "    "
   ]
  },
  {
   "cell_type": "code",
   "execution_count": null,
   "metadata": {
    "collapsed": true
   },
   "outputs": [],
   "source": []
  },
  {
   "cell_type": "code",
   "execution_count": null,
   "metadata": {
    "collapsed": true
   },
   "outputs": [],
   "source": []
  }
 ],
 "metadata": {
  "kernelspec": {
   "display_name": "Python 3",
   "language": "python",
   "name": "python3"
  },
  "language_info": {
   "codemirror_mode": {
    "name": "ipython",
    "version": 3
   },
   "file_extension": ".py",
   "mimetype": "text/x-python",
   "name": "python",
   "nbconvert_exporter": "python",
   "pygments_lexer": "ipython3",
   "version": "3.6.0"
  }
 },
 "nbformat": 4,
 "nbformat_minor": 2
}
