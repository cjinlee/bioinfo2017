{
 "cells": [
  {
   "cell_type": "code",
   "execution_count": 1,
   "metadata": {
    "collapsed": false
   },
   "outputs": [
    {
     "name": "stdout",
     "output_type": "stream",
     "text": [
      "taatacgactcactatagggagaccacaac\n",
      "cgaagtaatacgactcactattagggaaga\n"
     ]
    }
   ],
   "source": [
    "seq_list = dict()\n",
    "f_fa = open('T7_promoter.iGEM.fa','r')\n",
    "for line in f_fa:\n",
    "    if line.startswith('>'):\n",
    "        seq_h = line.strip()\n",
    "        seq_list[seq_h] = ''\n",
    "    else:\n",
    "        seq_list[seq_h] = line.strip()\n",
    "f_fa.close()\n",
    "\n",
    "print( seq_list['>BBa_Z0251 T7 strong promoter'] )\n",
    "print( seq_list['>BBa_Z0253 T7 weak binding promoter'] )"
   ]
  },
  {
   "cell_type": "code",
   "execution_count": 2,
   "metadata": {
    "collapsed": false
   },
   "outputs": [
    {
     "name": "stdout",
     "output_type": "stream",
     "text": [
      "taatacgactcactatagggagaccacaac\n",
      "cgaagtaatacgactcactattagggaaga\n"
     ]
    }
   ],
   "source": [
    "seq_list = dict()\n",
    "f_fa = open('T7_promoter.iGEM.fa','r')\n",
    "for line in f_fa:\n",
    "    if line.startswith('>'):\n",
    "        seq_h = line.strip().lstrip('>').split()[0]\n",
    "        seq_list[seq_h] = ''\n",
    "    else:\n",
    "        seq_list[seq_h] = line.strip()\n",
    "f_fa.close()\n",
    "\n",
    "print( seq_list['BBa_Z0251'] )\n",
    "print( seq_list['BBa_Z0253'] )"
   ]
  },
  {
   "cell_type": "code",
   "execution_count": 12,
   "metadata": {
    "collapsed": false
   },
   "outputs": [
    {
     "name": "stdout",
     "output_type": "stream",
     "text": [
      "Ncgaagtaatacgactcactattagggaaga\n",
      "t     *  *     *   * **        \n",
      "a  **  ** *  *   *  *  *   ** *\n",
      "a  **  ** *  *   *  *  *   ** *\n",
      "t     *  *     *   * **        \n",
      "a  **  ** *  *   *  *  *   ** *\n",
      "c*         *  * * *            \n",
      "g *  *      *           ***  * \n",
      "a  **  ** *  *   *  *  *   ** *\n",
      "c*         *  * * *            \n",
      "t     *  *     *   * **        \n",
      "c*         *  * * *            \n",
      "a  **  ** *  *   *  *  *   ** *\n",
      "c*         *  * * *            \n",
      "t     *  *     *   * **        \n",
      "a  **  ** *  *   *  *  *   ** *\n",
      "t     *  *     *   * **        \n",
      "a  **  ** *  *   *  *  *   ** *\n",
      "g *  *      *           ***  * \n",
      "g *  *      *           ***  * \n",
      "g *  *      *           ***  * \n",
      "a  **  ** *  *   *  *  *   ** *\n",
      "g *  *      *           ***  * \n",
      "a  **  ** *  *   *  *  *   ** *\n",
      "c*         *  * * *            \n",
      "c*         *  * * *            \n",
      "a  **  ** *  *   *  *  *   ** *\n",
      "c*         *  * * *            \n",
      "a  **  ** *  *   *  *  *   ** *\n",
      "a  **  ** *  *   *  *  *   ** *\n",
      "c*         *  * * *            \n"
     ]
    }
   ],
   "source": [
    "import sys\n",
    "\n",
    "seq1 = seq_list['BBa_Z0251']\n",
    "seq2 = seq_list['BBa_Z0253']\n",
    "\n",
    "print(\"N%s\"%seq2)\n",
    "for i in range(0,len(seq1)):\n",
    "    out_str = []\n",
    "    for j in range(0,len(seq2)):\n",
    "        if seq2[j] == seq1[i]:\n",
    "            out_str.append('*')\n",
    "        else:\n",
    "            out_str.append(' ')\n",
    "            \n",
    "    print( \"%s%s\"%(seq1[i], ''.join(out_str)) )"
   ]
  },
  {
   "cell_type": "code",
   "execution_count": null,
   "metadata": {
    "collapsed": true
   },
   "outputs": [],
   "source": []
  }
 ],
 "metadata": {
  "kernelspec": {
   "display_name": "Python 3",
   "language": "python",
   "name": "python3"
  },
  "language_info": {
   "codemirror_mode": {
    "name": "ipython",
    "version": 3
   },
   "file_extension": ".py",
   "mimetype": "text/x-python",
   "name": "python",
   "nbconvert_exporter": "python",
   "pygments_lexer": "ipython3",
   "version": "3.6.0"
  }
 },
 "nbformat": 4,
 "nbformat_minor": 2
}
