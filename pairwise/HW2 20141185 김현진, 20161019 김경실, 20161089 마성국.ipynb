{
 "cells": [
  {
   "cell_type": "markdown",
   "metadata": {
    "collapsed": true
   },
   "source": [
    "20141185 김현진\n",
    "20161019 김경실\n",
    "20161089 마성국\n",
    "HW2 "
   ]
  },
  {
   "cell_type": "code",
   "execution_count": 3,
   "metadata": {
    "collapsed": false
   },
   "outputs": [
    {
     "name": "stdout",
     "output_type": "stream",
     "text": [
      "pig insulin is the closest to human insulin!\n"
     ]
    }
   ],
   "source": [
    "seq_list = dict()\n",
    "f_fa = open('insulin_pep.uniprot.fa','r')\n",
    "for line in f_fa:\n",
    "    if line.startswith('>'):\n",
    "        seq_h = line.strip().lstrip('>').split()[0]\n",
    "        seq_list[seq_h] = ''\n",
    "    else:\n",
    "        seq_list[seq_h] += line.strip()\n",
    "f_fa.close()\n",
    "\n",
    "import numpy as np\n",
    "\n",
    "human = seq_list['sp|P01308|INS_HUMAN'] \n",
    "pig = seq_list['sp|P01315|INS_PIG'] \n",
    "bovin = seq_list['sp|P01317|INS_BOVIN']\n",
    "mouse = seq_list['sp|P01325|INS1_MOUSE']\n",
    "chick = seq_list['sp|P67970|INS_CHICK']\n",
    "xenla = seq_list['sp|P12706|INS1_XENLA']\n",
    "danre = seq_list['sp|O73727|INS_DANRE']\n",
    "\n",
    "gap = -6\n",
    "\n",
    "animal_list = [pig, bovin, mouse, chick, xenla, danre]\n",
    "\n",
    "def check_value( mylist ):\n",
    "    human_len = len(human)\n",
    "    mylist_len = len(mylist)\n",
    "\n",
    "    hm_list = np.zeros ((mylist_len+1,human_len+1))\n",
    "    for i in range(1,human_len+2):\n",
    "        hm_list[0,i-1] = gap*(i-1)\n",
    "    for j in range(1,mylist_len+2):\n",
    "        hm_list[j-1,0] = gap*(j-1)\n",
    "\n",
    "    for i in range (1 , human_len+1):\n",
    "        for j in range (1 , mylist_len+1):\n",
    "            if human[i-1] == mylist[j-1]:\n",
    "                delta = +5\n",
    "            else:\n",
    "                delta = -2\n",
    "            \n",
    "            hm_list[j,i] = max(hm_list[j-1,i-1]+delta, hm_list[j-1,i]+gap, hm_list[j,i-1]+gap)\n",
    "            hm_value = hm_list[j,i]\n",
    "    \n",
    "    return hm_value\n",
    "\n",
    "def best_match( mylist ):\n",
    "    best_value = 0\n",
    "    mylist_len = len(mylist)\n",
    "    for i in range(0,mylist_len):\n",
    "        best_value = max(check_value(mylist[i]), best_value)\n",
    "        if best_value == check_value(mylist[i]):\n",
    "            best_match = mylist[i]\n",
    "    \n",
    "    return best_match\n",
    "\n",
    "if best_match(animal_list) == pig:\n",
    "    final = 'pig'\n",
    "elif best_match(animal_list) == bovin:\n",
    "    final = 'bovin'\n",
    "elif best_match(animal_list) == mouse: \n",
    "    final = 'mouse'\n",
    "elif best_match(animal_list) == chick:\n",
    "    final = 'chick'\n",
    "elif best_match(animal_list) == xenla: \n",
    "    final = 'xenla'\n",
    "elif best_match(animal_list) == danre: \n",
    "    final = 'danre'\n",
    "    \n",
    "print(final,'insulin is the closest to human insulin!')\n",
    "    "
   ]
  },
  {
   "cell_type": "code",
   "execution_count": null,
   "metadata": {
    "collapsed": true
   },
   "outputs": [],
   "source": []
  }
 ],
 "metadata": {
  "kernelspec": {
   "display_name": "Python 3",
   "language": "python",
   "name": "python3"
  },
  "language_info": {
   "codemirror_mode": {
    "name": "ipython",
    "version": 3
   },
   "file_extension": ".py",
   "mimetype": "text/x-python",
   "name": "python",
   "nbconvert_exporter": "python",
   "pygments_lexer": "ipython3",
   "version": "3.6.0"
  }
 },
 "nbformat": 4,
 "nbformat_minor": 2
}
