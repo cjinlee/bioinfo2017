{
 "cells": [
  {
   "cell_type": "markdown",
   "metadata": {
    "collapsed": true
   },
   "source": [
    "Before use this program, make sure the location of file to open."
   ]
  },
  {
   "cell_type": "code",
   "execution_count": 19,
   "metadata": {
    "collapsed": false
   },
   "outputs": [
    {
     "name": "stdout",
     "output_type": "stream",
     "text": [
      "--------NAME----------|-SCORE-|SIMILARITY\n",
      "sp|P01308|INS_HUMAN  :  584  :  100.0 %\n",
      "sp|P01325|INS1_MOUSE  :  440  :  75.34 %\n",
      "sp|P67970|INS_CHICK  :  346  :  59.25 %\n",
      "sp|P12706|INS1_XENLA  :  316  :  54.11 %\n",
      "sp|O73727|INS_DANRE  :  236  :  40.41 %\n",
      "The most silmilar insulin with human is sp|P01325|INS1_MOUSE\n"
     ]
    }
   ],
   "source": [
    "seq_list = dict()\n",
    "readfile = open(r'C:\\Users\\snfl1\\OneDrive\\DOCUME~1-DESKTOP-MJQBPN4-20444\\GitHub\\bioinfo2017\\pairwise\\insulin_pep.uniprot.fa','r')\n",
    "list_insulin = readfile.readlines()\n",
    "for line in list_insulin:\n",
    "    if line.startswith('>'):\n",
    "        seq_h = line.strip().lstrip('>').split()[0]\n",
    "        #print(seq_h)\n",
    "        seq_list[seq_h] = ''\n",
    "    else:\n",
    "        seq_list[seq_h] = seq_list[seq_h] + line.strip()\n",
    "#print( seq_list )\n",
    "\n",
    "#for k,v in seq_list.items():\n",
    "#    print(k)\n",
    "\n",
    "## Read BLOSUM62\n",
    "aa_pairs = dict()\n",
    "f = open(r'C:\\Users\\snfl1\\OneDrive\\DOCUME~1-DESKTOP-MJQBPN4-20444\\GitHub\\bioinfo2017\\pairwise\\BLOSUM62.txt','r')\n",
    "for line in f:\n",
    "    if line.startswith('#'):\n",
    "        continue\n",
    "    elif line.startswith(' '):\n",
    "        headers = line.strip().split()\n",
    "    else:\n",
    "        tmp_list = line.strip().split()\n",
    "        aa_pairs[tmp_list[0]] = dict()\n",
    "        for i in range(1,len(tmp_list)):\n",
    "            aa_pairs[tmp_list[0]][headers[i-1]] = int(tmp_list[i])\n",
    "f.close()\n",
    "#print( aa_pairs['A']['A'], aa_pairs['W']['W'] )\n",
    "\n",
    "import sys\n",
    "\n",
    "#seq1 = seq_list['sp|P01308|INS_HUMAN']\n",
    "#seq2 = seq_list['sp|P12706|INS1_XENLA']\n",
    "\n",
    "gap = -4\n",
    "\n",
    "print('--------NAME----------|-SCORE-|SIMILARITY')\n",
    "\n",
    "#print(seq1[gap])\n",
    "#print(seq2)\n",
    "\n",
    "#print( aa_pairs['A']['Y'])\n",
    "\n",
    "score_list = dict()\n",
    "\n",
    "for k,v in seq_list.items():\n",
    "    seq1 = seq_list['sp|P01308|INS_HUMAN']\n",
    "    seq2 = seq_list[k]\n",
    "    dyn_matrix = []\n",
    "    name = k\n",
    "    for i in range(0,len(seq1)):\n",
    "        dyn_matrix.append([])\n",
    "        for j in range(0,len(seq2)):\n",
    "            if i == 0:\n",
    "                if j == 0:\n",
    "                    dyn_matrix[i].append(0)\n",
    "                else:\n",
    "                    x = dyn_matrix[i][j-1] + gap\n",
    "                    dyn_matrix[i].append(x)\n",
    "            else:\n",
    "                if j == 0:\n",
    "                    y = dyn_matrix[i-1][j] + gap\n",
    "                    dyn_matrix[i].append(y)\n",
    "                else:\n",
    "                    a = dyn_matrix[i-1][j] + gap\n",
    "                    b = dyn_matrix[i][j-1] + gap\n",
    "                    c = dyn_matrix[i-1][j-1] + aa_pairs[seq1[i]][seq2[j]]\n",
    "                    opt = [a, b, c]\n",
    "                    z = max(opt)\n",
    "                    dyn_matrix[i].append(z)\n",
    "    score_list[k] = dyn_matrix[len(seq1)-1][len(seq2)-1]\n",
    "    print(k,' : ',dyn_matrix[len(seq1)-1][len(seq2)-1], ' : ', round(dyn_matrix[len(seq1)-1][len(seq2)-1] / score_list['sp|P01308|INS_HUMAN'] * 100,2), '%')\n",
    "\n",
    "#print(score_list)\n",
    "del score_list['sp|P01308|INS_HUMAN']\n",
    "\n",
    "score = []\n",
    "\n",
    "re_score_list = dict()\n",
    "for k,v in score_list.items():\n",
    "    re_score = v\n",
    "    #print(re_score)\n",
    "    re_score_list[re_score] = k\n",
    "#print(re_score_list)\n",
    "\n",
    "for k,v in score_list.items():\n",
    "    score.append(v)\n",
    "most = max(score)\n",
    "print('The most silmilar insulin with human is',re_score_list[most])\n",
    "    "
   ]
  },
  {
   "cell_type": "code",
   "execution_count": null,
   "metadata": {
    "collapsed": true
   },
   "outputs": [],
   "source": []
  }
 ],
 "metadata": {
  "kernelspec": {
   "display_name": "Python 3",
   "language": "python",
   "name": "python3"
  },
  "language_info": {
   "codemirror_mode": {
    "name": "ipython",
    "version": 3
   },
   "file_extension": ".py",
   "mimetype": "text/x-python",
   "name": "python",
   "nbconvert_exporter": "python",
   "pygments_lexer": "ipython3",
   "version": "3.6.0"
  }
 },
 "nbformat": 4,
 "nbformat_minor": 2
}
