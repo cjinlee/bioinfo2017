{
 "cells": [
  {
   "cell_type": "code",
   "execution_count": 45,
   "metadata": {
    "collapsed": false
   },
   "outputs": [
    {
     "name": "stdout",
     "output_type": "stream",
     "text": [
      "Mus musculus - best match score 58\n",
      "Xenopus laevis - best match score 36\n",
      "Danio rerio - best match score 28\n",
      "Bos taurus - best match score 66\n",
      "Sus scrofa - best match score 64\n",
      "Gallus gallus - best match score 50\n"
     ]
    }
   ],
   "source": [
    "seq_list = {}\n",
    "f_fa = open('insulin_pep.uniprot.fa','r')\n",
    "for line in f_fa:\n",
    "    if line.startswith('>'):\n",
    "        seq_h = line.strip()\n",
    "        seq_list[seq_h] = ''\n",
    "    else:\n",
    "        seq_list[seq_h] += line.strip()\n",
    "f_fa.close()\n",
    "\n",
    "human_insulin = seq_list['>sp|P01308|INS_HUMAN Insulin OS=Homo sapiens GN=INS PE=1 SV=1']\n",
    "\n",
    "a = 0\n",
    "for key in seq_list.keys():\n",
    "    points = []\n",
    "    query = seq_list[key]\n",
    "    k = len(human_insulin)-len(query)\n",
    "    os = key.split()[2:4]\n",
    "    name = os[0][3:] + ' ' + os[1]\n",
    "    if key == '>sp|P01308|INS_HUMAN Insulin OS=Homo sapiens GN=INS PE=1 SV=1':\n",
    "        continue\n",
    "    for j in range(0,k+1):\n",
    "        for i in range(len(query)):\n",
    "            if query[i] == human_insulin[i+j]:\n",
    "                a += 1\n",
    "        points.append(a)\n",
    "        a = 0\n",
    "        \n",
    "    print ('%s - best match score %d'%(name,max(points)))"
   ]
  }
 ],
 "metadata": {
  "kernelspec": {
   "display_name": "Python 2",
   "language": "python",
   "name": "python2"
  },
  "language_info": {
   "codemirror_mode": {
    "name": "ipython",
    "version": 2
   },
   "file_extension": ".py",
   "mimetype": "text/x-python",
   "name": "python",
   "nbconvert_exporter": "python",
   "pygments_lexer": "ipython2",
   "version": "2.7.12"
  }
 },
 "nbformat": 4,
 "nbformat_minor": 2
}
