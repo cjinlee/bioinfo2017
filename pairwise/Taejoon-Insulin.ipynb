{
 "cells": [
  {
   "cell_type": "code",
   "execution_count": 14,
   "metadata": {
    "collapsed": true
   },
   "outputs": [],
   "source": [
    "gap_score = -10\n",
    "aa_pairs = dict()\n",
    "f = open('BLOSUM62.txt','r')\n",
    "for line in f:\n",
    "    if line.startswith('#'):\n",
    "        continue\n",
    "    elif line.startswith(' '):\n",
    "        headers = line.strip().split()\n",
    "    else:\n",
    "        tmp_list = line.strip().split()\n",
    "        aa_pairs[tmp_list[0]] = dict()\n",
    "        for i in range(1,len(tmp_list)):\n",
    "            aa_pairs[tmp_list[0]][headers[i-1]] = int(tmp_list[i])\n",
    "f.close()"
   ]
  },
  {
   "cell_type": "code",
   "execution_count": 2,
   "metadata": {
    "collapsed": true
   },
   "outputs": [],
   "source": [
    "seq_list = dict()\n",
    "f_fa = open('insulin_pep.uniprot.fa','r')\n",
    "for line in f_fa:\n",
    "    if line.startswith('>'):\n",
    "        ## >sp|P01308|INS_HUMAN Insulin OS=Homo sapiens GN=INS PE=1 SV=1\n",
    "        ## --> 'HUMAN'\n",
    "        seq_h = line.strip().split()[0].split('_')[-1]\n",
    "        seq_list[seq_h] = ''\n",
    "    else:\n",
    "        seq_list[seq_h] += line.strip()\n",
    "f_fa.close()"
   ]
  },
  {
   "cell_type": "code",
   "execution_count": 15,
   "metadata": {
    "collapsed": false
   },
   "outputs": [
    {
     "name": "stdout",
     "output_type": "stream",
     "text": [
      "HUMAN-HUMAN: 589\n",
      "HUMAN-MOUSE: 433\n",
      "HUMAN-CHICK: 329\n",
      "HUMAN-XENLA: 292\n",
      "HUMAN-DANRE: 199\n"
     ]
    }
   ],
   "source": [
    "import numpy as np\n",
    "\n",
    "def global_alignment(tmp_matrix, tmp_pos1, tmp_pos2, tmp_chr1, tmp_chr2):    \n",
    "    if tmp_pos1 == 0 and tmp_pos2 == 0:\n",
    "        return 's',0\n",
    "    elif tmp_pos2 == 0:\n",
    "        return 'v',tmp_matrix[tmp_pos1-1][0] + gap_score\n",
    "    elif tmp_pos1 == 0:\n",
    "        return 'h',tmp_matrix[0][tmp_pos2-1] + gap_score\n",
    "    else:\n",
    "        d_score = tmp_matrix[tmp_pos1-1][tmp_pos2-1]\n",
    "        d_score += aa_pairs[tmp_chr1][tmp_chr2]\n",
    "        v_score = tmp_matrix[tmp_pos1-1][tmp_pos2] + gap_score\n",
    "        h_score = tmp_matrix[tmp_pos1][tmp_pos2-1] + gap_score\n",
    "        \n",
    "        max_score = max([d_score,v_score,h_score])\n",
    "        tmp_dir_list = []\n",
    "        if d_score == max_score:\n",
    "            tmp_dir_list.append('d')\n",
    "        if v_score == max_score:\n",
    "            tmp_dir_list.append('v')\n",
    "        if h_score == max_score:\n",
    "            tmp_dir_list.append('h')\n",
    "            \n",
    "        return ''.join(tmp_dir_list), max_score\n",
    "\n",
    "def local_alignment(tmp_matrix, tmp_pos1, tmp_pos2, tmp_chr1, tmp_chr2):    \n",
    "    if tmp_pos1 == 0 or tmp_pos2 == 0:\n",
    "        return 's',0\n",
    "    else:\n",
    "        d_score = tmp_matrix[tmp_pos1-1][tmp_pos2-1]\n",
    "        d_score += aa_pairs[tmp_chr1][tmp_chr2]\n",
    "        v_score = tmp_matrix[tmp_pos1-1][tmp_pos2] + gap_score\n",
    "        h_score = tmp_matrix[tmp_pos1][tmp_pos2-1] + gap_score\n",
    "        \n",
    "        max_score = max([d_score,v_score,h_score,0])\n",
    "        tmp_dir_list = []\n",
    "        if d_score == max_score:\n",
    "            tmp_dir_list.append('d')\n",
    "        if v_score == max_score:\n",
    "            tmp_dir_list.append('v')\n",
    "        if h_score == max_score:\n",
    "            tmp_dir_list.append('h')\n",
    "        if len(tmp_dir_list) == 0:\n",
    "            tmp_dir_list.append('s')\n",
    "            \n",
    "        return ''.join(tmp_dir_list), max_score\n",
    "    \n",
    "def align_pairwise(tmp_seq1, tmp_seq2):\n",
    "    len_seq1 = len(tmp_seq1)\n",
    "    len_seq2 = len(tmp_seq2)\n",
    "    \n",
    "    dir_list = dict()\n",
    "    max_score = -100\n",
    "    (max_pos1, max_pos2) = (0,0)\n",
    "    score_matrix = np.zeros( (len_seq1+1, len_seq2+1) )\n",
    "    for pos1 in range(len_seq1+1):\n",
    "        chr1 = tmp_seq1[pos1-1]\n",
    "        for pos2 in range(len_seq2+1):\n",
    "            chr2 = tmp_seq2[pos2-1]\n",
    "            ## for global alignment\n",
    "            #tmp_dir, tmp_score = global_alignment(score_matrix, pos1, pos2, chr1, chr2)\n",
    "            ## for local alignment\n",
    "            tmp_dir, tmp_score = local_alignment(score_matrix, pos1, pos2, chr1, chr2)\n",
    "            \n",
    "            score_matrix[pos1][pos2] = tmp_score\n",
    "            dir_list[(pos1,pos2)] = tmp_dir\n",
    "            if max_score < tmp_score:\n",
    "                max_score = tmp_score\n",
    "    return max_score\n",
    "\n",
    "seq_human = seq_list['HUMAN']\n",
    "for tmp_h in seq_list.keys():\n",
    "    tmp_seq = seq_list[tmp_h]\n",
    "    print(\"HUMAN-%s: %d\"%(tmp_h, align_pairwise(seq_human, tmp_seq)))"
   ]
  },
  {
   "cell_type": "code",
   "execution_count": null,
   "metadata": {
    "collapsed": true
   },
   "outputs": [],
   "source": []
  }
 ],
 "metadata": {
  "kernelspec": {
   "display_name": "Python 3",
   "language": "python",
   "name": "python3"
  },
  "language_info": {
   "codemirror_mode": {
    "name": "ipython",
    "version": 3
   },
   "file_extension": ".py",
   "mimetype": "text/x-python",
   "name": "python",
   "nbconvert_exporter": "python",
   "pygments_lexer": "ipython3",
   "version": "3.6.0"
  }
 },
 "nbformat": 4,
 "nbformat_minor": 2
}
