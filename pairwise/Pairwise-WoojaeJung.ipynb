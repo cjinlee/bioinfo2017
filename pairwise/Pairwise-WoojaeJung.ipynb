{
 "cells": [
  {
   "cell_type": "markdown",
   "metadata": {},
   "source": [
    "//김민수,김인천,정우재 조 Code"
   ]
  },
  {
   "cell_type": "code",
   "execution_count": 1,
   "metadata": {
    "collapsed": true
   },
   "outputs": [],
   "source": [
    "seq_list = dict()\n",
    "f_fa = open('insulin_pep.uniprot.fa','r')\n",
    "for line in f_fa:\n",
    "    if line.startswith('>'):\n",
    "        seq_h = line.strip().lstrip('>')\n",
    "        seq_list[seq_h] = ''\n",
    "    else:\n",
    "        seq_list[seq_h] += line.strip()\n",
    "f_fa.close()\n",
    "\n",
    "Human = seq_list['sp|P01308|INS_HUMAN Insulin OS=Homo sapiens GN=INS PE=1 SV=1']\n",
    "Pig = seq_list['sp|P01315|INS_PIG Insulin OS=Sus scrofa GN=INS PE=1 SV=2']\n",
    "Cow = seq_list['sp|P01317|INS_BOVIN Insulin OS=Bos taurus GN=INS PE=1 SV=2']\n",
    "Mouse = seq_list['sp|P01325|INS1_MOUSE Insulin-1 OS=Mus musculus GN=Ins1 PE=1 SV=1']\n",
    "Chicken = seq_list['sp|P67970|INS_CHICK Insulin OS=Gallus gallus GN=INS PE=1 SV=1']\n",
    "Xenla = seq_list['sp|P12706|INS1_XENLA Insulin-1 OS=Xenopus laevis GN=ins-a PE=1 SV=2']\n",
    "Danre = seq_list['sp|O73727|INS_DANRE Insulin OS=Danio rerio GN=ins PE=3 SV=1']"
   ]
  },
  {
   "cell_type": "code",
   "execution_count": 2,
   "metadata": {
    "collapsed": true
   },
   "outputs": [],
   "source": [
    "def maxvalue(a,b,c):\n",
    "    a=a+5\n",
    "    b=b-6\n",
    "    c=c-6\n",
    "    return max(a,b,c)\n",
    "def maxvalue2(a,b,c):\n",
    "    a=a-2\n",
    "    b=b-6\n",
    "    c=c-6\n",
    "    return max(a,b,c)"
   ]
  },
  {
   "cell_type": "code",
   "execution_count": 3,
   "metadata": {
    "collapsed": false
   },
   "outputs": [],
   "source": [
    "def compare(a,b):\n",
    "    import numpy as np\n",
    "    scoring = np.zeros([len(a)+1,len(b)+1])\n",
    "    for i in range(0,len(a)+1):\n",
    "        scoring[i,0]=-6*i\n",
    "    for j in range(0,len(b)+1):\n",
    "        scoring[0,j]=-6*j\n",
    "\n",
    "    for row in range(1,len(a)+1):\n",
    "        for column in range(1,len(b)+1):\n",
    "            if b[column-1]==a[row-1]:\n",
    "                scoring[row,column] = maxvalue(scoring[row-1,column-1],scoring[row-1,column],scoring[row,column-1])\n",
    "            if b[column-1]!=a[row-1]:\n",
    "                scoring[row,column] = maxvalue2(scoring[row-1,column-1],scoring[row-1,column],scoring[row,column-1])\n",
    "    print(scoring)\n",
    "\n",
    "    list=[]\n",
    "    for row in range(1,len(a)+1):\n",
    "        for column in range(1,len(b)+1):\n",
    "            new=scoring[row,column]\n",
    "            list.append(new)\n",
    "    mxv=max(list)\n",
    "    print(mxv)"
   ]
  },
  {
   "cell_type": "code",
   "execution_count": 4,
   "metadata": {
    "collapsed": false,
    "scrolled": true
   },
   "outputs": [
    {
     "name": "stdout",
     "output_type": "stream",
     "text": [
      "[[   0.   -6.  -12. ..., -636. -642. -648.]\n",
      " [  -6.    5.   -1. ..., -625. -631. -637.]\n",
      " [ -12.   -1.   10. ..., -614. -620. -626.]\n",
      " ..., \n",
      " [-648. -637. -626. ...,  427.  421.  415.]\n",
      " [-654. -643. -632. ...,  421.  432.  426.]\n",
      " [-660. -649. -638. ...,  415.  426.  437.]]\n",
      "437.0\n",
      "[[   0.   -6.  -12. ..., -618. -624. -630.]\n",
      " [  -6.    5.   -1. ..., -607. -613. -619.]\n",
      " [ -12.   -1.   10. ..., -596. -602. -608.]\n",
      " ..., \n",
      " [-648. -637. -626. ...,  366.  360.  354.]\n",
      " [-654. -643. -632. ...,  360.  371.  365.]\n",
      " [-660. -649. -638. ...,  354.  365.  376.]]\n",
      "376.0\n",
      "[[   0.   -6.  -12. ..., -636. -642. -648.]\n",
      " [  -6.    5.   -1. ..., -625. -631. -637.]\n",
      " [ -12.   -1.   10. ..., -614. -620. -626.]\n",
      " ..., \n",
      " [-648. -637. -626. ...,  364.  358.  352.]\n",
      " [-654. -643. -632. ...,  358.  369.  363.]\n",
      " [-660. -649. -638. ...,  352.  363.  374.]]\n",
      "374.0\n",
      "[[   0.   -6.  -12. ..., -630. -636. -642.]\n",
      " [  -6.    5.   -1. ..., -619. -625. -631.]\n",
      " [ -12.   -1.   10. ..., -608. -614. -620.]\n",
      " ..., \n",
      " [-648. -637. -626. ...,  255.  249.  243.]\n",
      " [-654. -643. -632. ...,  249.  260.  254.]\n",
      " [-660. -649. -638. ...,  243.  254.  265.]]\n",
      "265.0\n",
      "[[   0.   -6.  -12. ..., -624. -630. -636.]\n",
      " [  -6.    5.   -1. ..., -613. -619. -625.]\n",
      " [ -12.   -1.   10. ..., -602. -608. -614.]\n",
      " ..., \n",
      " [-648. -637. -626. ...,  202.  196.  190.]\n",
      " [-654. -643. -632. ...,  196.  207.  201.]\n",
      " [-660. -649. -638. ...,  190.  201.  212.]]\n",
      "212.0\n",
      "[[   0.   -6.  -12. ..., -636. -642. -648.]\n",
      " [  -6.    5.   -1. ..., -625. -631. -637.]\n",
      " [ -12.   -1.   10. ..., -614. -620. -626.]\n",
      " ..., \n",
      " [-648. -637. -626. ...,   98.   92.   86.]\n",
      " [-654. -643. -632. ...,   92.  103.   97.]\n",
      " [-660. -649. -638. ...,   86.   97.  108.]]\n",
      "108.0\n"
     ]
    }
   ],
   "source": [
    "compare(Human,Pig)\n",
    "compare(Human,Cow)\n",
    "compare(Human,Mouse)\n",
    "compare(Human,Chicken)\n",
    "compare(Human,Xenla)\n",
    "compare(Human,Danre)"
   ]
  },
  {
   "cell_type": "code",
   "execution_count": null,
   "metadata": {
    "collapsed": true
   },
   "outputs": [],
   "source": []
  }
 ],
 "metadata": {
  "kernelspec": {
   "display_name": "Python 3",
   "language": "python",
   "name": "python3"
  },
  "language_info": {
   "codemirror_mode": {
    "name": "ipython",
    "version": 3
   },
   "file_extension": ".py",
   "mimetype": "text/x-python",
   "name": "python",
   "nbconvert_exporter": "python",
   "pygments_lexer": "ipython3",
   "version": "3.6.0"
  }
 },
 "nbformat": 4,
 "nbformat_minor": 2
}
