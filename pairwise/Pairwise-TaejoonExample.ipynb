{
 "cells": [
  {
   "cell_type": "code",
   "execution_count": 1,
   "metadata": {
    "collapsed": false
   },
   "outputs": [
    {
     "name": "stdout",
     "output_type": "stream",
     "text": [
      "taatacgactcactatagggagaccacaac\n",
      "cgaagtaatacgactcactattagggaaga\n"
     ]
    }
   ],
   "source": [
    "seq_list = dict()\n",
    "f_fa = open('T7_promoter.iGEM.fa','r')\n",
    "for line in f_fa:\n",
    "    if line.startswith('>'):\n",
    "        seq_h = line.strip()\n",
    "        seq_list[seq_h] = ''\n",
    "    else:\n",
    "        seq_list[seq_h] = line.strip()\n",
    "f_fa.close()\n",
    "\n",
    "print( seq_list['>BBa_Z0251 T7 strong promoter'] )\n",
    "print( seq_list['>BBa_Z0253 T7 weak binding promoter'] )"
   ]
  },
  {
   "cell_type": "code",
   "execution_count": 2,
   "metadata": {
    "collapsed": false
   },
   "outputs": [
    {
     "name": "stdout",
     "output_type": "stream",
     "text": [
      "taatacgactcactatagggagaccacaac\n",
      "cgaagtaatacgactcactattagggaaga\n"
     ]
    }
   ],
   "source": [
    "seq_list = dict()\n",
    "f_fa = open('T7_promoter.iGEM.fa','r')\n",
    "for line in f_fa:\n",
    "    if line.startswith('>'):\n",
    "        seq_h = line.strip().lstrip('>').split()[0]\n",
    "        seq_list[seq_h] = ''\n",
    "    else:\n",
    "        seq_list[seq_h] = line.strip()\n",
    "f_fa.close()\n",
    "\n",
    "print( seq_list['BBa_Z0251'] )\n",
    "print( seq_list['BBa_Z0253'] )"
   ]
  },
  {
   "cell_type": "code",
   "execution_count": 3,
   "metadata": {
    "collapsed": false
   },
   "outputs": [
    {
     "name": "stdout",
     "output_type": "stream",
     "text": [
      "Ncgaagtaatacgactcactattagggaaga\n",
      "t      *  *     *   * **        \n",
      "a   **  ** *  *   *  *  *   ** *\n",
      "a   **  ** *  *   *  *  *   ** *\n",
      "t      *  *     *   * **        \n",
      "a   **  ** *  *   *  *  *   ** *\n",
      "c *         *  * * *            \n",
      "g  *  *      *           ***  * \n",
      "a   **  ** *  *   *  *  *   ** *\n",
      "c *         *  * * *            \n",
      "t      *  *     *   * **        \n",
      "c *         *  * * *            \n",
      "a   **  ** *  *   *  *  *   ** *\n",
      "c *         *  * * *            \n",
      "t      *  *     *   * **        \n",
      "a   **  ** *  *   *  *  *   ** *\n",
      "t      *  *     *   * **        \n",
      "a   **  ** *  *   *  *  *   ** *\n",
      "g  *  *      *           ***  * \n",
      "g  *  *      *           ***  * \n",
      "g  *  *      *           ***  * \n",
      "a   **  ** *  *   *  *  *   ** *\n",
      "g  *  *      *           ***  * \n",
      "a   **  ** *  *   *  *  *   ** *\n",
      "c *         *  * * *            \n",
      "c *         *  * * *            \n",
      "a   **  ** *  *   *  *  *   ** *\n",
      "c *         *  * * *            \n",
      "a   **  ** *  *   *  *  *   ** *\n",
      "a   **  ** *  *   *  *  *   ** *\n",
      "c *         *  * * *            \n"
     ]
    }
   ],
   "source": [
    "## dot-plot\n",
    "import sys\n",
    "\n",
    "seq1 = seq_list['BBa_Z0251']\n",
    "seq2 = seq_list['BBa_Z0253']\n",
    "\n",
    "print(\"N%s\"%seq2)\n",
    "for i in range(0,len(seq1)):\n",
    "    out_str = []\n",
    "    for j in range(0,len(seq2)):\n",
    "        if seq2[j] == seq1[i]:\n",
    "            out_str.append('*')\n",
    "        else:\n",
    "            out_str.append(' ')\n",
    "            \n",
    "    #print( \"%s%s\"%(seq1[i], ''.join(out_str)) )\n",
    "    print( seq1[i], ''.join(out_str))"
   ]
  },
  {
   "cell_type": "code",
   "execution_count": 14,
   "metadata": {
    "collapsed": false
   },
   "outputs": [
    {
     "data": {
      "image/png": "[encoded data removed]",
      "text/plain": [
       "<matplotlib.figure.Figure at 0x24bbff1fac8>"
      ]
     },
     "metadata": {},
     "output_type": "display_data"
    }
   ],
   "source": [
    "%matplotlib inline\n",
    "\n",
    "import sys\n",
    "\n",
    "seq_list = dict()\n",
    "f_fa = open('T7_promoter.iGEM.fa','r')\n",
    "for line in f_fa:\n",
    "    if line.startswith('>'):\n",
    "        seq_h = line.strip().lstrip('>').split()[0]\n",
    "        seq_list[seq_h] = ''\n",
    "    else:\n",
    "        seq_list[seq_h] = line.strip()\n",
    "f_fa.close()\n",
    "\n",
    "seq1 = seq_list['BBa_Z0251']\n",
    "seq2 = seq_list['BBa_Z0253']\n",
    "\n",
    "x_list = []\n",
    "y_list = []\n",
    "for i in range(0,len(seq1)):\n",
    "    out_str = []\n",
    "    for j in range(0,len(seq2)):\n",
    "        if seq2[j] == seq1[i]:\n",
    "            x_list.append(i)\n",
    "            y_list.append(j)\n",
    "\n",
    "# Change the following line 241 at font_manager.py from:\n",
    "# direc = os.path.abspath(direc).lower()\n",
    "# to below:\n",
    "# direc = direc.split('\\0', 1)[0]\n",
    "\n",
    "import matplotlib.pyplot as plt\n",
    "\n",
    "fig = plt.figure(figsize=(5,5))\n",
    "ax1 = fig.add_subplot(1,1,1)\n",
    "ax1.plot(x_list, y_list, 'bo')\n",
    "plt.show()"
   ]
  },
  {
   "cell_type": "code",
   "execution_count": 16,
   "metadata": {
    "collapsed": false
   },
   "outputs": [
    {
     "name": "stdout",
     "output_type": "stream",
     "text": [
      "[[ 0.  0.  0.  0.  0.  1.  0.  0.  1.  0.  0.  0.  0.  0.  1.  0.  0.  0.\n",
      "   1.  0.  1.  1.  0.  0.  0.  0.  0.  0.  0.  0.]\n",
      " [ 0.  0.  1.  1.  0.  0.  1.  1.  0.  1.  0.  0.  1.  0.  0.  0.  1.  0.\n",
      "   0.  1.  0.  0.  1.  0.  0.  0.  1.  1.  0.  1.]\n",
      " [ 0.  0.  1.  1.  0.  0.  1.  1.  0.  1.  0.  0.  1.  0.  0.  0.  1.  0.\n",
      "   0.  1.  0.  0.  1.  0.  0.  0.  1.  1.  0.  1.]\n",
      " [ 0.  0.  0.  0.  0.  1.  0.  0.  1.  0.  0.  0.  0.  0.  1.  0.  0.  0.\n",
      "   1.  0.  1.  1.  0.  0.  0.  0.  0.  0.  0.  0.]\n",
      " [ 0.  0.  1.  1.  0.  0.  1.  1.  0.  1.  0.  0.  1.  0.  0.  0.  1.  0.\n",
      "   0.  1.  0.  0.  1.  0.  0.  0.  1.  1.  0.  1.]\n",
      " [ 1.  0.  0.  0.  0.  0.  0.  0.  0.  0.  1.  0.  0.  1.  0.  1.  0.  1.\n",
      "   0.  0.  0.  0.  0.  0.  0.  0.  0.  0.  0.  0.]\n",
      " [ 0.  1.  0.  0.  1.  0.  0.  0.  0.  0.  0.  1.  0.  0.  0.  0.  0.  0.\n",
      "   0.  0.  0.  0.  0.  1.  1.  1.  0.  0.  1.  0.]\n",
      " [ 0.  0.  1.  1.  0.  0.  1.  1.  0.  1.  0.  0.  1.  0.  0.  0.  1.  0.\n",
      "   0.  1.  0.  0.  1.  0.  0.  0.  1.  1.  0.  1.]\n",
      " [ 1.  0.  0.  0.  0.  0.  0.  0.  0.  0.  1.  0.  0.  1.  0.  1.  0.  1.\n",
      "   0.  0.  0.  0.  0.  0.  0.  0.  0.  0.  0.  0.]\n",
      " [ 0.  0.  0.  0.  0.  1.  0.  0.  1.  0.  0.  0.  0.  0.  1.  0.  0.  0.\n",
      "   1.  0.  1.  1.  0.  0.  0.  0.  0.  0.  0.  0.]\n",
      " [ 1.  0.  0.  0.  0.  0.  0.  0.  0.  0.  1.  0.  0.  1.  0.  1.  0.  1.\n",
      "   0.  0.  0.  0.  0.  0.  0.  0.  0.  0.  0.  0.]\n",
      " [ 0.  0.  1.  1.  0.  0.  1.  1.  0.  1.  0.  0.  1.  0.  0.  0.  1.  0.\n",
      "   0.  1.  0.  0.  1.  0.  0.  0.  1.  1.  0.  1.]\n",
      " [ 1.  0.  0.  0.  0.  0.  0.  0.  0.  0.  1.  0.  0.  1.  0.  1.  0.  1.\n",
      "   0.  0.  0.  0.  0.  0.  0.  0.  0.  0.  0.  0.]\n",
      " [ 0.  0.  0.  0.  0.  1.  0.  0.  1.  0.  0.  0.  0.  0.  1.  0.  0.  0.\n",
      "   1.  0.  1.  1.  0.  0.  0.  0.  0.  0.  0.  0.]\n",
      " [ 0.  0.  1.  1.  0.  0.  1.  1.  0.  1.  0.  0.  1.  0.  0.  0.  1.  0.\n",
      "   0.  1.  0.  0.  1.  0.  0.  0.  1.  1.  0.  1.]\n",
      " [ 0.  0.  0.  0.  0.  1.  0.  0.  1.  0.  0.  0.  0.  0.  1.  0.  0.  0.\n",
      "   1.  0.  1.  1.  0.  0.  0.  0.  0.  0.  0.  0.]\n",
      " [ 0.  0.  1.  1.  0.  0.  1.  1.  0.  1.  0.  0.  1.  0.  0.  0.  1.  0.\n",
      "   0.  1.  0.  0.  1.  0.  0.  0.  1.  1.  0.  1.]\n",
      " [ 0.  1.  0.  0.  1.  0.  0.  0.  0.  0.  0.  1.  0.  0.  0.  0.  0.  0.\n",
      "   0.  0.  0.  0.  0.  1.  1.  1.  0.  0.  1.  0.]\n",
      " [ 0.  1.  0.  0.  1.  0.  0.  0.  0.  0.  0.  1.  0.  0.  0.  0.  0.  0.\n",
      "   0.  0.  0.  0.  0.  1.  1.  1.  0.  0.  1.  0.]\n",
      " [ 0.  1.  0.  0.  1.  0.  0.  0.  0.  0.  0.  1.  0.  0.  0.  0.  0.  0.\n",
      "   0.  0.  0.  0.  0.  1.  1.  1.  0.  0.  1.  0.]\n",
      " [ 0.  0.  1.  1.  0.  0.  1.  1.  0.  1.  0.  0.  1.  0.  0.  0.  1.  0.\n",
      "   0.  1.  0.  0.  1.  0.  0.  0.  1.  1.  0.  1.]\n",
      " [ 0.  1.  0.  0.  1.  0.  0.  0.  0.  0.  0.  1.  0.  0.  0.  0.  0.  0.\n",
      "   0.  0.  0.  0.  0.  1.  1.  1.  0.  0.  1.  0.]\n",
      " [ 0.  0.  1.  1.  0.  0.  1.  1.  0.  1.  0.  0.  1.  0.  0.  0.  1.  0.\n",
      "   0.  1.  0.  0.  1.  0.  0.  0.  1.  1.  0.  1.]\n",
      " [ 1.  0.  0.  0.  0.  0.  0.  0.  0.  0.  1.  0.  0.  1.  0.  1.  0.  1.\n",
      "   0.  0.  0.  0.  0.  0.  0.  0.  0.  0.  0.  0.]\n",
      " [ 1.  0.  0.  0.  0.  0.  0.  0.  0.  0.  1.  0.  0.  1.  0.  1.  0.  1.\n",
      "   0.  0.  0.  0.  0.  0.  0.  0.  0.  0.  0.  0.]\n",
      " [ 0.  0.  1.  1.  0.  0.  1.  1.  0.  1.  0.  0.  1.  0.  0.  0.  1.  0.\n",
      "   0.  1.  0.  0.  1.  0.  0.  0.  1.  1.  0.  1.]\n",
      " [ 1.  0.  0.  0.  0.  0.  0.  0.  0.  0.  1.  0.  0.  1.  0.  1.  0.  1.\n",
      "   0.  0.  0.  0.  0.  0.  0.  0.  0.  0.  0.  0.]\n",
      " [ 0.  0.  1.  1.  0.  0.  1.  1.  0.  1.  0.  0.  1.  0.  0.  0.  1.  0.\n",
      "   0.  1.  0.  0.  1.  0.  0.  0.  1.  1.  0.  1.]\n",
      " [ 0.  0.  1.  1.  0.  0.  1.  1.  0.  1.  0.  0.  1.  0.  0.  0.  1.  0.\n",
      "   0.  1.  0.  0.  1.  0.  0.  0.  1.  1.  0.  1.]\n",
      " [ 1.  0.  0.  0.  0.  0.  0.  0.  0.  0.  1.  0.  0.  1.  0.  1.  0.  1.\n",
      "   0.  0.  0.  0.  0.  0.  0.  0.  0.  0.  0.  0.]]\n"
     ]
    }
   ],
   "source": [
    "import sys\n",
    "\n",
    "seq_list = dict()\n",
    "f_fa = open('T7_promoter.iGEM.fa','r')\n",
    "for line in f_fa:\n",
    "    if line.startswith('>'):\n",
    "        seq_h = line.strip().lstrip('>').split()[0]\n",
    "        seq_list[seq_h] = ''\n",
    "    else:\n",
    "        seq_list[seq_h] = line.strip()\n",
    "f_fa.close()\n",
    "\n",
    "seq1 = seq_list['BBa_Z0251']\n",
    "seq2 = seq_list['BBa_Z0253']\n",
    "\n",
    "import numpy as np\n",
    "dyn_matrix = np.zeros( (len(seq1),len(seq2)) )\n",
    "for i in range(0,len(seq1)):\n",
    "    out_str = []\n",
    "    for j in range(0,len(seq2)):\n",
    "        if seq2[j] == seq1[i]:\n",
    "            dyn_matrix[i][j] = 1\n",
    "\n",
    "print(dyn_matrix)"
   ]
  },
  {
   "cell_type": "code",
   "execution_count": 10,
   "metadata": {
    "collapsed": false
   },
   "outputs": [
    {
     "name": "stdout",
     "output_type": "stream",
     "text": [
      "4 11\n"
     ]
    }
   ],
   "source": [
    "## Read BLOSUM62\n",
    "aa_pairs = dict()\n",
    "f = open('BLOSUM62.txt','r')\n",
    "for line in f:\n",
    "    if line.startswith('#'):\n",
    "        continue\n",
    "    elif line.startswith(' '):\n",
    "        headers = line.strip().split()\n",
    "    else:\n",
    "        tmp_list = line.strip().split()\n",
    "        aa_pairs[tmp_list[0]] = dict()\n",
    "        for i in range(1,len(tmp_list)):\n",
    "            aa_pairs[tmp_list[0]][headers[i-1]] = int(tmp_list[i])\n",
    "f.close()\n",
    "print( aa_pairs['A']['A'], aa_pairs['W']['W'] )\n",
    "        "
   ]
  },
  {
   "cell_type": "code",
   "execution_count": null,
   "metadata": {
    "collapsed": true
   },
   "outputs": [],
   "source": []
  }
 ],
 "metadata": {
  "kernelspec": {
   "display_name": "Python 3",
   "language": "python",
   "name": "python3"
  },
  "language_info": {
   "codemirror_mode": {
    "name": "ipython",
    "version": 3
   },
   "file_extension": ".py",
   "mimetype": "text/x-python",
   "name": "python",
   "nbconvert_exporter": "python",
   "pygments_lexer": "ipython3",
   "version": "3.6.0"
  }
 },
 "nbformat": 4,
 "nbformat_minor": 2
}
